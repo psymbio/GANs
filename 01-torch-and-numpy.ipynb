{
 "cells": [
  {
   "cell_type": "code",
   "execution_count": null,
   "metadata": {},
   "outputs": [],
   "source": []
  },
  {
   "cell_type": "code",
   "execution_count": 1,
   "metadata": {},
   "outputs": [
    {
     "data": {
      "application/javascript": [
       "if (window.IPython && IPython.notebook.kernel) IPython.notebook.kernel.execute('jovian.utils.jupyter.get_notebook_name_saved = lambda: \"' + IPython.notebook.notebook_name + '\"')"
      ],
      "text/plain": [
       "<IPython.core.display.Javascript object>"
      ]
     },
     "metadata": {},
     "output_type": "display_data"
    }
   ],
   "source": [
    "import torch\n",
    "import jovian"
   ]
  },
  {
   "cell_type": "code",
   "execution_count": 2,
   "metadata": {},
   "outputs": [
    {
     "data": {
      "text/plain": [
       "tensor(4.)"
      ]
     },
     "execution_count": 2,
     "metadata": {},
     "output_type": "execute_result"
    }
   ],
   "source": [
    "# tensors torch is used to process tensors\n",
    "# tensors store numbers and can be integers, vectors, matrices\n",
    "t1 = torch.tensor(4.)\n",
    "t1"
   ]
  },
  {
   "cell_type": "code",
   "execution_count": 3,
   "metadata": {},
   "outputs": [
    {
     "data": {
      "text/plain": [
       "tensor([1., 2., 3., 4.])"
      ]
     },
     "execution_count": 3,
     "metadata": {},
     "output_type": "execute_result"
    }
   ],
   "source": [
    "t2 = torch.tensor([1., 2, 3, 4])\n",
    "t2"
   ]
  },
  {
   "cell_type": "code",
   "execution_count": 4,
   "metadata": {},
   "outputs": [
    {
     "data": {
      "text/plain": [
       "tensor([[2, 3],\n",
       "        [4, 5],\n",
       "        [7, 8]])"
      ]
     },
     "execution_count": 4,
     "metadata": {},
     "output_type": "execute_result"
    }
   ],
   "source": [
    "t3 = torch.tensor([[2, 3], [4, 5], [7, 8]])\n",
    "t3"
   ]
  },
  {
   "cell_type": "code",
   "execution_count": 5,
   "metadata": {},
   "outputs": [
    {
     "data": {
      "text/plain": [
       "tensor([[[ 1,  2,  3],\n",
       "         [ 4,  5,  6]],\n",
       "\n",
       "        [[ 7,  8,  9],\n",
       "         [10, 11, 12]]])"
      ]
     },
     "execution_count": 5,
     "metadata": {},
     "output_type": "execute_result"
    }
   ],
   "source": [
    "t4 = torch.tensor([[[1, 2, 3], [4, 5, 6]], [[7, 8, 9], [10, 11, 12]]])\n",
    "t4"
   ]
  },
  {
   "cell_type": "code",
   "execution_count": 6,
   "metadata": {},
   "outputs": [
    {
     "data": {
      "text/plain": [
       "torch.Size([4])"
      ]
     },
     "execution_count": 6,
     "metadata": {},
     "output_type": "execute_result"
    }
   ],
   "source": [
    "t2.shape"
   ]
  },
  {
   "cell_type": "code",
   "execution_count": 7,
   "metadata": {},
   "outputs": [
    {
     "data": {
      "text/plain": [
       "torch.Size([3, 2])"
      ]
     },
     "execution_count": 7,
     "metadata": {},
     "output_type": "execute_result"
    }
   ],
   "source": [
    "t3.shape"
   ]
  },
  {
   "cell_type": "code",
   "execution_count": 8,
   "metadata": {},
   "outputs": [
    {
     "data": {
      "text/plain": [
       "torch.Size([2, 2, 3])"
      ]
     },
     "execution_count": 8,
     "metadata": {},
     "output_type": "execute_result"
    }
   ],
   "source": [
    "t4.shape"
   ]
  },
  {
   "cell_type": "code",
   "execution_count": 9,
   "metadata": {},
   "outputs": [
    {
     "data": {
      "text/plain": [
       "tensor(17., grad_fn=<AddBackward0>)"
      ]
     },
     "execution_count": 9,
     "metadata": {},
     "output_type": "execute_result"
    }
   ],
   "source": [
    "x = torch.tensor(3.)\n",
    "w = torch.tensor(4., requires_grad=True)\n",
    "b = torch.tensor(5., requires_grad=True)\n",
    "y = w * x + b\n",
    "y"
   ]
  },
  {
   "cell_type": "code",
   "execution_count": 10,
   "metadata": {},
   "outputs": [],
   "source": [
    "# compute derivatives of values  wrt x, w, and b\n",
    "y.backward()"
   ]
  },
  {
   "cell_type": "code",
   "execution_count": 11,
   "metadata": {},
   "outputs": [
    {
     "name": "stdout",
     "output_type": "stream",
     "text": [
      "dy/dx None\n",
      "dy/dw tensor(3.)\n",
      "dy/db tensor(1.)\n"
     ]
    }
   ],
   "source": [
    "print(\"dy/dx\", x.grad)\n",
    "print(\"dy/dw\", w.grad)\n",
    "print(\"dy/db\", b.grad)"
   ]
  },
  {
   "cell_type": "code",
   "execution_count": 12,
   "metadata": {},
   "outputs": [],
   "source": [
    "# gradient with matrices and derivatives with numbers"
   ]
  },
  {
   "cell_type": "code",
   "execution_count": 13,
   "metadata": {},
   "outputs": [
    {
     "data": {
      "text/plain": [
       "array([[1, 2],\n",
       "       [3, 4]])"
      ]
     },
     "execution_count": 13,
     "metadata": {},
     "output_type": "execute_result"
    }
   ],
   "source": [
    "import numpy as np\n",
    "# numpy and pytorch are interoperable\n",
    "x = np.array([[1, 2], [3, 4]])\n",
    "x"
   ]
  },
  {
   "cell_type": "code",
   "execution_count": 14,
   "metadata": {},
   "outputs": [
    {
     "data": {
      "text/plain": [
       "tensor([[1, 2],\n",
       "        [3, 4]])"
      ]
     },
     "execution_count": 14,
     "metadata": {},
     "output_type": "execute_result"
    }
   ],
   "source": [
    "# convert numpy array to tensor\n",
    "y = torch.from_numpy(x)\n",
    "y"
   ]
  },
  {
   "cell_type": "code",
   "execution_count": 15,
   "metadata": {},
   "outputs": [
    {
     "data": {
      "text/plain": [
       "array([[1, 2],\n",
       "       [3, 4]])"
      ]
     },
     "execution_count": 15,
     "metadata": {},
     "output_type": "execute_result"
    }
   ],
   "source": [
    "z = y.numpy()\n",
    "z"
   ]
  },
  {
   "cell_type": "code",
   "execution_count": 16,
   "metadata": {},
   "outputs": [
    {
     "data": {
      "text/plain": [
       "(dtype('int64'), torch.int64)"
      ]
     },
     "execution_count": 16,
     "metadata": {},
     "output_type": "execute_result"
    }
   ],
   "source": [
    "x.dtype, y.dtype"
   ]
  },
  {
   "cell_type": "code",
   "execution_count": 17,
   "metadata": {},
   "outputs": [
    {
     "data": {
      "application/javascript": [
       "window.require && require([\"base/js/namespace\"],function(Jupyter){Jupyter.notebook.save_checkpoint()})"
      ],
      "text/plain": [
       "<IPython.core.display.Javascript object>"
      ]
     },
     "metadata": {},
     "output_type": "display_data"
    },
    {
     "name": "stdout",
     "output_type": "stream",
     "text": [
      "[jovian] Attempting to save notebook..\u001b[0m\n",
      "[jovian] Please enter your API key ( from https://jovian.ai/ ):\u001b[0m\n",
      "API KEY: ········\n",
      "[jovian] Uploading notebook..\u001b[0m\n",
      "[jovian] Capturing environment..\u001b[0m\n"
     ]
    },
    {
     "name": "stderr",
     "output_type": "stream",
     "text": [
      "\u001b[31m[jovian] Error: Failed to read Anaconda environment using command: \"conda env export -n base --no-builds\"\u001b[0m\n",
      "\u001b[31m[jovian] Error: Failed to read pip environment using command: \"pip --disable-pip-version-check freeze\"\u001b[0m\n"
     ]
    },
    {
     "name": "stdout",
     "output_type": "stream",
     "text": [
      "[jovian] Committed successfully! https://jovian.ai/psymbio/01-torch-and-numpy\u001b[0m\n"
     ]
    },
    {
     "data": {
      "text/plain": [
       "'https://jovian.ai/psymbio/01-torch-and-numpy'"
      ]
     },
     "execution_count": 17,
     "metadata": {},
     "output_type": "execute_result"
    }
   ],
   "source": [
    "jovian.commit()"
   ]
  },
  {
   "cell_type": "markdown",
   "metadata": {},
   "source": [
    "### What is PyTorch?\n",
    "\n",
    "PyTorch is an open source machine learning library based on the Torch library, used for applications such as computer vision and natural language processing\n",
    "\n",
    "### What is a Jupyter notebook?\n",
    "\n",
    "this. (ooo... meta)\n",
    "\n",
    "### What is Google Colab?\n",
    "\n",
    "a similar env to jupyter, doesn't support binder, but it's nice too\n",
    "\n",
    "### How do you install PyTorch?\n",
    "\n",
    "pip3 install torch\n",
    "\n",
    "### How do you import the torch module?\n",
    "\n",
    "import torch\n",
    "\n",
    "### What is a vector? Give an example.\n",
    "\n",
    "A vector is an object that has both a magnitude and a direction. Like force is a vector.\n",
    "\n",
    "### What is a matrix? Give an example.\n",
    "\n",
    "In mathematics, a matrix (plural matrices) is a rectangular array or table of numbers, symbols, or expressions, arranged in rows and columns. Like A = [2, 3, 4].\n",
    "\n",
    "### What is a tensor?\n",
    "\n",
    "https://en.wikipedia.org/wiki/Tensor\n",
    "\n",
    "### How do you create a PyTorch tensor? Illustrate with examples.\n",
    "\n",
    "t1 = torch.tensor(4.)\n",
    "\n",
    "### What is the difference between a tensor and a vector or a matrix?\n",
    "\n",
    "A tensor is often thought of as a generalized matrix. That is, it could be a 1-D matrix (a vector is actually such a tensor), a 3-D matrix (something like a cube of numbers), even a 0-D matrix (a single number), or a higher dimensional structure that is harder to visualize. The dimension of the tensor is called its rank. A tensor is a mathematical entity that lives in a structure and interacts with other mathematical entities. If one transforms the other entities in the structure in a regular way, then the tensor must obey a related transformation rule. This “dynamical” property of a tensor is the key that distinguishes it from a mere matrix. It’s a team player whose numerical values shift around along with those of its teammates when a transformation is introduced that affects all of them. Any rank-2 tensor can be represented as a matrix, but not every matrix is really a rank-2 tensor. The numerical values of a tensor’s matrix representation depend on what transformation rules have been applied to the entire system.\n",
    "\n",
    "### Is every tensor a matrix?\n",
    "\n",
    "yes.\n",
    "\n",
    "### Is every matrix a tensor?\n",
    "\n",
    "no.\n",
    "\n",
    "### What does the dtype property of a tensor represent?\n",
    "\n",
    "The datatype\n",
    "\n",
    "### Is it possible to create a tensor with elements of different data types?\n",
    "\n",
    "yes\n",
    "\n",
    "### How do you inspect the number of dimensions of a tensor and the length along each dimension?\n",
    "\n",
    "If you're calculating by hand start from the outer bracket going inwards, if not then t3.shape\n",
    "\n",
    "### Is it possible to create a tensor with the values [[1, 2, 3], [4, 5]]? Why or why not?\n",
    "\n",
    "No, the last row in the 2D matrix must have three values to be a valid tensor.\n",
    "\n",
    "### How do you perform arithmetic operations on tensors? Illustrate with examples?\n",
    "\n",
    "y = w * x + b, where w, x and b are tensors\n",
    "\n",
    "### What happens if you specify requires_grad=True while creating a tensor? Illustrate with an example.\n",
    "\n",
    "When you diffrentiate wrt to them they have a value, otherwise it gives the output as none.\n",
    "\n",
    "### What is autograd in PyTorch? How is it useful?\n",
    "\n",
    "autograd provides the automatic diffrentiation of the equation wrt to the variable that is declared as x = torch.ones(2, 2, requires_grad=True) such. \n",
    "\n",
    "<https://pytorch.org/tutorials/beginner/blitz/autograd_tutorial.html>\n",
    "\n",
    "### What happens when you invoke the backward method of a tensor?\n",
    "\n",
    "If you want to compute the derivatives, you can call .backward() on a Tensor. If Tensor is a scalar (i.e. it holds a one element data), you don’t need to specify any arguments to backward(), however if it has more elements, you need to specify a gradient argument that is a tensor of matching shape.\n",
    "\n",
    "### How do you check the derivates of a result tensor w.r.t. the tensors used to compute its value?\n",
    "\n",
    "print(\"dy/dw\", w.grad)\n",
    "print(\"dy/db\", b.grad)\n",
    "\n",
    "### Give some examples of functions available in the torch module for creating tensors.\n",
    "\n",
    "t3 = torch.tensor([[2, 3], [4, 5], [7, 8]])\n",
    "y = torch.from_numpy(x)\n",
    "\n",
    "### Give some examples of functions available in the torch module for performing mathematical operations on tensors.\n",
    "\n",
    "https://jhui.github.io/2018/02/09/PyTorch-Basic-operations/\n",
    "(This is a really good blog for GANs)\n",
    "\n",
    "### Where can you find the list of tensor operations available in PyTorch?\n",
    "\n",
    "https://pytorch.org/docs/stable/tensors.html\n",
    "\n",
    "### What is Numpy?\n",
    "\n",
    "Python library written in C for fast math computations, pytorch and numpy are interoperable.\n",
    "\n",
    "### How do you create a Numpy array?\n",
    "\n",
    "x = np.array([1, 2. 3])\n",
    "\n",
    "### How do you create a PyTorch tensor using a Numpy array?\n",
    "\n",
    "y = torch.from_numpy(x)\n",
    "\n",
    "### How do you create a Numpy array using a PyTorch tensor?\n",
    "\n",
    "z = y.numpy()\n",
    "\n",
    "### Why is interoperability between PyTorch and Numpy important?\n",
    "\n",
    "Because pytorch uses the GPU and nowadays it's all about that sweet-sweet GPU processing. Instead of reinventing the wheel, PyTorch interoperates really well with Numpy to leverage its existing ecosystem of tools and libraries.\n",
    "Also before using the pytorch capabilitites most of the values need to be preprocessed by numpy.\n",
    "\n",
    "### What is the purpose of a library like PyTorch if Numpy already provides data structures and utilities to with multi-dimensional numeric data?\n",
    "\n",
    "Using the GPU which makes calclations faster, it would take days through numpy and just hours through pytorch\n",
    "\n",
    "### What is Jovian?\n",
    "\n",
    "host your jupyter files online, (I think I can use it for my website)\n",
    "\n",
    "### How do you upload your notebooks to Jovian using jovian.commit?\n",
    "\n",
    "will figure it out when I need to."
   ]
  },
  {
   "cell_type": "code",
   "execution_count": null,
   "metadata": {},
   "outputs": [],
   "source": []
  }
 ],
 "metadata": {
  "kernelspec": {
   "display_name": "Python 3",
   "language": "python",
   "name": "python3"
  },
  "language_info": {
   "codemirror_mode": {
    "name": "ipython",
    "version": 3
   },
   "file_extension": ".py",
   "mimetype": "text/x-python",
   "name": "python",
   "nbconvert_exporter": "python",
   "pygments_lexer": "ipython3",
   "version": "3.8.2"
  }
 },
 "nbformat": 4,
 "nbformat_minor": 4
}
